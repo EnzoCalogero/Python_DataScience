{
 "cells": [
  {
   "cell_type": "markdown",
   "metadata": {},
   "source": [
    "## Title to be..."
   ]
  },
  {
   "cell_type": "markdown",
   "metadata": {},
   "source": [
    "## Considering the 3 datasets:\n",
    " -   PISA (\"Program for International Student Assessment\")\n",
    " -   World Development Indicators\n",
    " -   Hapiness Dataset\n",
    " "
   ]
  },
  {
   "cell_type": "markdown",
   "metadata": {
    "collapsed": true
   },
   "source": [
    "# First DataSet PISA:\n",
    "\n",
    "PISA stands for \"Program for International Student Assessment\" and it is applied to 15 year-old students across the world to assess their performance in Math, Reading and Science. These are the 2015 scores.\n",
    "\n",
    "Link to the data set\n",
    "https://www.kaggle.com/zazueta/pisa-scores-2015/downloads/Pisa%20mean%20performance%20scores%202013%20-%202015%20Definition%20and%20Source.csv\n",
    "\n",
    "\n"
   ]
  },
  {
   "cell_type": "code",
   "execution_count": 1,
   "metadata": {
    "collapsed": true
   },
   "outputs": [],
   "source": [
    "import pandas as pd\n",
    "from pandas.plotting import scatter_matrix\n",
    "from pandas.tools.plotting import scatter_matrix\n",
    "import numpy as np\n",
    "import matplotlib.pyplot as plt\n",
    "\n",
    "%matplotlib notebook\n",
    "\n",
    "import warnings\n",
    "warnings.filterwarnings('ignore')\n"
   ]
  },
  {
   "cell_type": "code",
   "execution_count": 2,
   "metadata": {
    "collapsed": true
   },
   "outputs": [],
   "source": [
    "PISA = pd.read_csv('/home/dio/Coursera_Python/dati/PISAData.csv', nrows=1161)\n",
    "PISA=PISA[['Country Name','Series Name','2015 [YR2015]']]\n",
    "PISA.columns=['Country','Series','Score_2015']\n",
    "PISA['Score_2015'][PISA['Score_2015']=='..']=np.NaN\n",
    "PISA['Score_2015']=PISA['Score_2015'].astype(float)\n",
    "\n",
    "PISA=PISA.pivot_table(index=['Country'],columns=['Series'],values=['Score_2015'])\n",
    "\n",
    "names2=['mathematics','mathematics_Female','mathematics_Male','reading','reading_Female','reading_Male','science','science_Female','science_Male']\n",
    "PISA.columns=names2\n",
    "PISA=PISA.reset_index()\n",
    "\n"
   ]
  },
  {
   "cell_type": "code",
   "execution_count": 3,
   "metadata": {},
   "outputs": [
    {
     "data": {
      "text/html": [
       "<div>\n",
       "<style>\n",
       "    .dataframe thead tr:only-child th {\n",
       "        text-align: right;\n",
       "    }\n",
       "\n",
       "    .dataframe thead th {\n",
       "        text-align: left;\n",
       "    }\n",
       "\n",
       "    .dataframe tbody tr th {\n",
       "        vertical-align: top;\n",
       "    }\n",
       "</style>\n",
       "<table border=\"1\" class=\"dataframe\">\n",
       "  <thead>\n",
       "    <tr style=\"text-align: right;\">\n",
       "      <th></th>\n",
       "      <th>mathematics</th>\n",
       "      <th>mathematics_Female</th>\n",
       "      <th>mathematics_Male</th>\n",
       "      <th>reading</th>\n",
       "      <th>reading_Female</th>\n",
       "      <th>reading_Male</th>\n",
       "      <th>science</th>\n",
       "      <th>science_Female</th>\n",
       "      <th>science_Male</th>\n",
       "    </tr>\n",
       "  </thead>\n",
       "  <tbody>\n",
       "    <tr>\n",
       "      <th>mathematics</th>\n",
       "      <td>1.000000</td>\n",
       "      <td>0.996050</td>\n",
       "      <td>0.996220</td>\n",
       "      <td>0.944694</td>\n",
       "      <td>0.938286</td>\n",
       "      <td>0.936269</td>\n",
       "      <td>0.975159</td>\n",
       "      <td>0.968043</td>\n",
       "      <td>0.969146</td>\n",
       "    </tr>\n",
       "    <tr>\n",
       "      <th>mathematics_Female</th>\n",
       "      <td>0.996050</td>\n",
       "      <td>1.000000</td>\n",
       "      <td>0.984587</td>\n",
       "      <td>0.934626</td>\n",
       "      <td>0.937750</td>\n",
       "      <td>0.917764</td>\n",
       "      <td>0.969118</td>\n",
       "      <td>0.971142</td>\n",
       "      <td>0.954710</td>\n",
       "    </tr>\n",
       "    <tr>\n",
       "      <th>mathematics_Male</th>\n",
       "      <td>0.996220</td>\n",
       "      <td>0.984587</td>\n",
       "      <td>1.000000</td>\n",
       "      <td>0.946920</td>\n",
       "      <td>0.931268</td>\n",
       "      <td>0.946808</td>\n",
       "      <td>0.973600</td>\n",
       "      <td>0.957648</td>\n",
       "      <td>0.975821</td>\n",
       "    </tr>\n",
       "    <tr>\n",
       "      <th>reading</th>\n",
       "      <td>0.944694</td>\n",
       "      <td>0.934626</td>\n",
       "      <td>0.946920</td>\n",
       "      <td>1.000000</td>\n",
       "      <td>0.990635</td>\n",
       "      <td>0.992314</td>\n",
       "      <td>0.963816</td>\n",
       "      <td>0.948941</td>\n",
       "      <td>0.965100</td>\n",
       "    </tr>\n",
       "    <tr>\n",
       "      <th>reading_Female</th>\n",
       "      <td>0.938286</td>\n",
       "      <td>0.937750</td>\n",
       "      <td>0.931268</td>\n",
       "      <td>0.990635</td>\n",
       "      <td>1.000000</td>\n",
       "      <td>0.966321</td>\n",
       "      <td>0.956005</td>\n",
       "      <td>0.955596</td>\n",
       "      <td>0.944049</td>\n",
       "    </tr>\n",
       "    <tr>\n",
       "      <th>reading_Male</th>\n",
       "      <td>0.936269</td>\n",
       "      <td>0.917764</td>\n",
       "      <td>0.946808</td>\n",
       "      <td>0.992314</td>\n",
       "      <td>0.966321</td>\n",
       "      <td>1.000000</td>\n",
       "      <td>0.956038</td>\n",
       "      <td>0.928381</td>\n",
       "      <td>0.969292</td>\n",
       "    </tr>\n",
       "    <tr>\n",
       "      <th>science</th>\n",
       "      <td>0.975159</td>\n",
       "      <td>0.969118</td>\n",
       "      <td>0.973600</td>\n",
       "      <td>0.963816</td>\n",
       "      <td>0.956005</td>\n",
       "      <td>0.956038</td>\n",
       "      <td>1.000000</td>\n",
       "      <td>0.992877</td>\n",
       "      <td>0.993877</td>\n",
       "    </tr>\n",
       "    <tr>\n",
       "      <th>science_Female</th>\n",
       "      <td>0.968043</td>\n",
       "      <td>0.971142</td>\n",
       "      <td>0.957648</td>\n",
       "      <td>0.948941</td>\n",
       "      <td>0.955596</td>\n",
       "      <td>0.928381</td>\n",
       "      <td>0.992877</td>\n",
       "      <td>1.000000</td>\n",
       "      <td>0.973654</td>\n",
       "    </tr>\n",
       "    <tr>\n",
       "      <th>science_Male</th>\n",
       "      <td>0.969146</td>\n",
       "      <td>0.954710</td>\n",
       "      <td>0.975821</td>\n",
       "      <td>0.965100</td>\n",
       "      <td>0.944049</td>\n",
       "      <td>0.969292</td>\n",
       "      <td>0.993877</td>\n",
       "      <td>0.973654</td>\n",
       "      <td>1.000000</td>\n",
       "    </tr>\n",
       "  </tbody>\n",
       "</table>\n",
       "</div>"
      ],
      "text/plain": [
       "                    mathematics  mathematics_Female  mathematics_Male  \\\n",
       "mathematics            1.000000            0.996050          0.996220   \n",
       "mathematics_Female     0.996050            1.000000          0.984587   \n",
       "mathematics_Male       0.996220            0.984587          1.000000   \n",
       "reading                0.944694            0.934626          0.946920   \n",
       "reading_Female         0.938286            0.937750          0.931268   \n",
       "reading_Male           0.936269            0.917764          0.946808   \n",
       "science                0.975159            0.969118          0.973600   \n",
       "science_Female         0.968043            0.971142          0.957648   \n",
       "science_Male           0.969146            0.954710          0.975821   \n",
       "\n",
       "                     reading  reading_Female  reading_Male   science  \\\n",
       "mathematics         0.944694        0.938286      0.936269  0.975159   \n",
       "mathematics_Female  0.934626        0.937750      0.917764  0.969118   \n",
       "mathematics_Male    0.946920        0.931268      0.946808  0.973600   \n",
       "reading             1.000000        0.990635      0.992314  0.963816   \n",
       "reading_Female      0.990635        1.000000      0.966321  0.956005   \n",
       "reading_Male        0.992314        0.966321      1.000000  0.956038   \n",
       "science             0.963816        0.956005      0.956038  1.000000   \n",
       "science_Female      0.948941        0.955596      0.928381  0.992877   \n",
       "science_Male        0.965100        0.944049      0.969292  0.993877   \n",
       "\n",
       "                    science_Female  science_Male  \n",
       "mathematics               0.968043      0.969146  \n",
       "mathematics_Female        0.971142      0.954710  \n",
       "mathematics_Male          0.957648      0.975821  \n",
       "reading                   0.948941      0.965100  \n",
       "reading_Female            0.955596      0.944049  \n",
       "reading_Male              0.928381      0.969292  \n",
       "science                   0.992877      0.993877  \n",
       "science_Female            1.000000      0.973654  \n",
       "science_Male              0.973654      1.000000  "
      ]
     },
     "execution_count": 3,
     "metadata": {},
     "output_type": "execute_result"
    }
   ],
   "source": [
    "PISA.corr()"
   ]
  },
  {
   "cell_type": "markdown",
   "metadata": {},
   "source": [
    "## Created two new features, from the 9 metrixes since they are extremelly correlate.\n",
    "- PISA_average_country Average of the 3 subjects\n",
    "- Delta Male-Female/PISA_average_country"
   ]
  },
  {
   "cell_type": "code",
   "execution_count": 4,
   "metadata": {},
   "outputs": [
    {
     "data": {
      "text/html": [
       "<div>\n",
       "<style>\n",
       "    .dataframe thead tr:only-child th {\n",
       "        text-align: right;\n",
       "    }\n",
       "\n",
       "    .dataframe thead th {\n",
       "        text-align: left;\n",
       "    }\n",
       "\n",
       "    .dataframe tbody tr th {\n",
       "        vertical-align: top;\n",
       "    }\n",
       "</style>\n",
       "<table border=\"1\" class=\"dataframe\">\n",
       "  <thead>\n",
       "    <tr style=\"text-align: right;\">\n",
       "      <th></th>\n",
       "      <th>Country</th>\n",
       "      <th>PISA_average_country</th>\n",
       "      <th>Delta_Male-Female</th>\n",
       "    </tr>\n",
       "  </thead>\n",
       "  <tbody>\n",
       "    <tr>\n",
       "      <th>0</th>\n",
       "      <td>Albania</td>\n",
       "      <td>415.213600</td>\n",
       "      <td>-92.570316</td>\n",
       "    </tr>\n",
       "    <tr>\n",
       "      <th>1</th>\n",
       "      <td>Algeria</td>\n",
       "      <td>361.736867</td>\n",
       "      <td>-51.785809</td>\n",
       "    </tr>\n",
       "    <tr>\n",
       "      <th>2</th>\n",
       "      <td>Argentina</td>\n",
       "      <td>422.187533</td>\n",
       "      <td>17.061451</td>\n",
       "    </tr>\n",
       "    <tr>\n",
       "      <th>4</th>\n",
       "      <td>Australia</td>\n",
       "      <td>502.263567</td>\n",
       "      <td>-23.776820</td>\n",
       "    </tr>\n",
       "    <tr>\n",
       "      <th>5</th>\n",
       "      <td>Austria</td>\n",
       "      <td>492.215133</td>\n",
       "      <td>25.580473</td>\n",
       "    </tr>\n",
       "  </tbody>\n",
       "</table>\n",
       "</div>"
      ],
      "text/plain": [
       "     Country  PISA_average_country  Delta_Male-Female\n",
       "0    Albania            415.213600         -92.570316\n",
       "1    Algeria            361.736867         -51.785809\n",
       "2  Argentina            422.187533          17.061451\n",
       "4  Australia            502.263567         -23.776820\n",
       "5    Austria            492.215133          25.580473"
      ]
     },
     "execution_count": 4,
     "metadata": {},
     "output_type": "execute_result"
    }
   ],
   "source": [
    "PISA['PISA_average_country']=(PISA['mathematics']+PISA['reading']+PISA['science'])/3.0\n",
    "PISA['Delta_Male-Female']=PISA['mathematics_Male']-PISA['mathematics_Female']+PISA['reading_Male']-PISA['reading_Female']+PISA['science_Male']-PISA['science_Female']\n",
    "PISA=PISA[['Country','PISA_average_country','Delta_Male-Female']]\n",
    "PISA=PISA.dropna()\n",
    "PISA.head()"
   ]
  },
  {
   "cell_type": "code",
   "execution_count": null,
   "metadata": {},
   "outputs": [],
   "source": [
    "# Define regression parameter \n",
    "a, b = np.polyfit(np.array(PISA['Delta_Male-Female']), np.array(PISA['PISA_average_country']), deg=1)\n",
    "f = lambda x: a * x + b\n",
    "\n",
    "plt.figure(figsize=(7,7))\n",
    "plt.scatter(PISA['Delta_Male-Female'],PISA['PISA_average_country'],c='green')\n",
    "\n",
    "x = np.array([min(PISA['Delta_Male-Female']),max(PISA['Delta_Male-Female'])])\n",
    "plt.plot(x,f(x),lw=2, c=\"blue\",label=\"Regression line\")\n",
    "plt.title(\"Scatterplot PISA average vs Delta MAle-Female for Country\")\n",
    "plt.xlabel('Delta Male vs Female')\n",
    "plt.ylabel('PISA Average Per Country')\n",
    "plt.show()\n"
   ]
  },
  {
   "cell_type": "markdown",
   "metadata": {},
   "source": [
    "# Second Dataset\n",
    "# World Development Indicators importing"
   ]
  },
  {
   "cell_type": "markdown",
   "metadata": {
    "collapsed": true
   },
   "source": [
    "- IT.NET.USER.P2     [2014] --> Internet users (per 100 people)\n",
    "- NY.GDP.PCAP.CD     [2013]-->  GDP per capita (current USdollar) \n",
    "- SE.ADT.LITR.FE.ZS  [2014] --> Adult literacy rate, population 15+ years, female (%)\n",
    "- SE.ADT.LITR.MA.ZS  [2014] --> Adult literacy rate, population 15+ years, male (%)\n",
    "- SE.ADT.LITR.ZS     [2014] --> Adult literacy rate, population 15+ years, both sexes (%)\n",
    "- SE.XPD.CTOT.ZS     [2014] --> Current education expenditure, total (% of total expenditure in public institutions)\n",
    "- SG.VAW.REFU.ZS     [2014] --> Women who believe a husband is justified in beating his wife when she refuses sex with him (%)\n",
    "- SG.VAW.BURN.ZS     [2014] --> Women who believe a husband is justified in beating his wife when she burns the food (%)\n",
    "- SP.DYN.IMRT.IN     [2015] --> Mortality rate, infant (per 1,000 live births)"
   ]
  },
  {
   "cell_type": "code",
   "execution_count": 5,
   "metadata": {},
   "outputs": [
    {
     "data": {
      "text/html": [
       "<div>\n",
       "<style>\n",
       "    .dataframe thead tr:only-child th {\n",
       "        text-align: right;\n",
       "    }\n",
       "\n",
       "    .dataframe thead th {\n",
       "        text-align: left;\n",
       "    }\n",
       "\n",
       "    .dataframe tbody tr th {\n",
       "        vertical-align: top;\n",
       "    }\n",
       "</style>\n",
       "<table border=\"1\" class=\"dataframe\">\n",
       "  <thead>\n",
       "    <tr style=\"text-align: right;\">\n",
       "      <th></th>\n",
       "      <th>CountryName</th>\n",
       "      <th>InternetUsr</th>\n",
       "      <th>GDPPerCapita</th>\n",
       "      <th>AdultLitFem</th>\n",
       "      <th>AdultLiMal</th>\n",
       "      <th>AdultLit</th>\n",
       "      <th>WomenWBelieve</th>\n",
       "      <th>MortaInfant</th>\n",
       "      <th>AdulDelta</th>\n",
       "    </tr>\n",
       "  </thead>\n",
       "  <tbody>\n",
       "    <tr>\n",
       "      <th>0</th>\n",
       "      <td>Afghanistan</td>\n",
       "      <td>5.9</td>\n",
       "      <td>666.795051</td>\n",
       "      <td>NaN</td>\n",
       "      <td>NaN</td>\n",
       "      <td>NaN</td>\n",
       "      <td>NaN</td>\n",
       "      <td>69.9</td>\n",
       "      <td>NaN</td>\n",
       "    </tr>\n",
       "    <tr>\n",
       "      <th>1</th>\n",
       "      <td>Albania</td>\n",
       "      <td>57.2</td>\n",
       "      <td>4411.258241</td>\n",
       "      <td>NaN</td>\n",
       "      <td>NaN</td>\n",
       "      <td>NaN</td>\n",
       "      <td>NaN</td>\n",
       "      <td>13.3</td>\n",
       "      <td>NaN</td>\n",
       "    </tr>\n",
       "    <tr>\n",
       "      <th>2</th>\n",
       "      <td>Algeria</td>\n",
       "      <td>16.5</td>\n",
       "      <td>5491.614414</td>\n",
       "      <td>NaN</td>\n",
       "      <td>NaN</td>\n",
       "      <td>NaN</td>\n",
       "      <td>NaN</td>\n",
       "      <td>22.1</td>\n",
       "      <td>NaN</td>\n",
       "    </tr>\n",
       "    <tr>\n",
       "      <th>3</th>\n",
       "      <td>Andorra</td>\n",
       "      <td>94.0</td>\n",
       "      <td>42806.522553</td>\n",
       "      <td>NaN</td>\n",
       "      <td>NaN</td>\n",
       "      <td>NaN</td>\n",
       "      <td>NaN</td>\n",
       "      <td>2.2</td>\n",
       "      <td>NaN</td>\n",
       "    </tr>\n",
       "    <tr>\n",
       "      <th>4</th>\n",
       "      <td>Angola</td>\n",
       "      <td>19.1</td>\n",
       "      <td>5900.529570</td>\n",
       "      <td>59.671429</td>\n",
       "      <td>82.323273</td>\n",
       "      <td>70.778412</td>\n",
       "      <td>NaN</td>\n",
       "      <td>101.4</td>\n",
       "      <td>22.651844</td>\n",
       "    </tr>\n",
       "  </tbody>\n",
       "</table>\n",
       "</div>"
      ],
      "text/plain": [
       "   CountryName  InternetUsr  GDPPerCapita  AdultLitFem  AdultLiMal   AdultLit  \\\n",
       "0  Afghanistan          5.9    666.795051          NaN         NaN        NaN   \n",
       "1      Albania         57.2   4411.258241          NaN         NaN        NaN   \n",
       "2      Algeria         16.5   5491.614414          NaN         NaN        NaN   \n",
       "3      Andorra         94.0  42806.522553          NaN         NaN        NaN   \n",
       "4       Angola         19.1   5900.529570    59.671429   82.323273  70.778412   \n",
       "\n",
       "   WomenWBelieve  MortaInfant  AdulDelta  \n",
       "0            NaN         69.9        NaN  \n",
       "1            NaN         13.3        NaN  \n",
       "2            NaN         22.1        NaN  \n",
       "3            NaN          2.2        NaN  \n",
       "4            NaN        101.4  22.651844  "
      ]
     },
     "execution_count": 5,
     "metadata": {},
     "output_type": "execute_result"
    }
   ],
   "source": [
    "WordInds = pd.read_csv('/home/dio/Coursera_Python/dati/Indicators.csv')\n",
    "#first selection of columns\n",
    "WordInds=WordInds[['CountryName','IndicatorCode','Year','Value']]\n",
    "#Filter for one year...\n",
    "WordInds=WordInds[WordInds['Year']==2013]\n",
    "\n",
    "#Select the indicators of interest\n",
    "indicators=['IT.NET.USER.P2','NY.GDP.PCAP.CD','SE.ADT.LITR.FE.ZS','SE.ADT.LITR.MA.ZS','SE.ADT.LITR.ZS',\n",
    "            'SG.VAW.REFU.ZS','SP.DYN.IMRT.IN']\n",
    "\n",
    "WordInds=WordInds[WordInds['IndicatorCode'].isin(indicators)]\n",
    "#expand the colum indicatorCode into a wide table..\n",
    "WordInds=WordInds.pivot_table(index=['CountryName'],columns=['IndicatorCode'],values=['Value'])\n",
    "#Rename the colummns\n",
    "colonne=['InternetUsr','GDPPerCapita','AdultLitFem','AdultLiMal','AdultLit',\n",
    "         'WomenWBelieve','MortaInfant']\n",
    "WordInds.columns=colonne\n",
    "WordInds['AdulDelta']=WordInds['AdultLiMal']-WordInds['AdultLitFem']\n",
    "\n",
    "#colonne=['InternetUsr','GDPPerCapita','AdultLitFem','AdultLiMal','AdultLit',\n",
    "#         'WomenWBelieve','MortaInfant']\n",
    "#WordInds.columns=colonne\n",
    "\n",
    "#Extract teh Country name from the Index\n",
    "WordInds=WordInds.reset_index()  \n",
    "WordInds.head()"
   ]
  },
  {
   "cell_type": "code",
   "execution_count": null,
   "metadata": {},
   "outputs": [],
   "source": [
    "\n",
    "_=scatter_matrix(WordInds, alpha=0.2, figsize=(10, 10), diagonal='kde')\n"
   ]
  },
  {
   "cell_type": "code",
   "execution_count": null,
   "metadata": {},
   "outputs": [],
   "source": [
    "###Tenuto come esempio\n",
    "plt.figure(figsize=(7,7))\n",
    "cm = plt.cm.get_cmap('seismic')#'RdYlBu')\n",
    "#xy = range(100)\n",
    "sc = plt.scatter(WordInds['MortaInfant'],WordInds['GDPPerCapita'], c=WordInds['AdulDelta'], vmin=0, vmax=30, s=35, cmap=cm)\n",
    "plt.colorbar(sc)\n",
    "plt.show()\n",
    "\n"
   ]
  },
  {
   "cell_type": "markdown",
   "metadata": {
    "collapsed": true
   },
   "source": [
    "## The third DataSet\n",
    "### Reading the Hapiness Dataset.\n",
    "http://worldhappiness.report/ed/2017/\n"
   ]
  },
  {
   "cell_type": "code",
   "execution_count": null,
   "metadata": {
    "collapsed": true
   },
   "outputs": [],
   "source": [
    "Happiness = pd.read_csv('/home/dio/Coursera_Python/dati/Happiness_2015.csv')\n",
    "Happiness=Happiness[['Country','Happiness Score']]"
   ]
  },
  {
   "cell_type": "code",
   "execution_count": null,
   "metadata": {},
   "outputs": [],
   "source": [
    "Happiness.head()"
   ]
  },
  {
   "cell_type": "markdown",
   "metadata": {
    "collapsed": true
   },
   "source": [
    "# Let's Merge the 3 datasets"
   ]
  },
  {
   "cell_type": "code",
   "execution_count": null,
   "metadata": {
    "collapsed": true
   },
   "outputs": [],
   "source": [
    "#fix a couple of countries\n",
    "Happiness['Country'][Happiness['Country']=='Russia']=\"Russian Federation\"\n",
    "Happiness['Country'][Happiness['Country']=='Macedonia']=\"Macedonia, FYR\""
   ]
  },
  {
   "cell_type": "code",
   "execution_count": null,
   "metadata": {
    "collapsed": true
   },
   "outputs": [],
   "source": [
    "Global=pd.merge(WordInds,PISA, how='left', left_on='CountryName', right_on='Country')\n",
    "Global=pd.merge(Global,Happiness, how='left', left_on='CountryName', right_on='Country')"
   ]
  },
  {
   "cell_type": "markdown",
   "metadata": {},
   "source": [
    "## Let explore the new dataset."
   ]
  },
  {
   "cell_type": "code",
   "execution_count": null,
   "metadata": {},
   "outputs": [],
   "source": [
    "Global.describe()"
   ]
  },
  {
   "cell_type": "code",
   "execution_count": null,
   "metadata": {
    "collapsed": true
   },
   "outputs": [],
   "source": [
    "Global=Global[['CountryName', 'InternetUsr', 'GDPPerCapita', \n",
    "          'AdultLit', 'WomenWBelieve', 'MortaInfant', 'AdulDelta',\n",
    "        'PISA_average_country', 'Delta_Male-Female', \n",
    "       'Happiness Score']]\n",
    "#Global.fillna(0, inplace=True)"
   ]
  },
  {
   "cell_type": "code",
   "execution_count": null,
   "metadata": {
    "scrolled": true
   },
   "outputs": [],
   "source": [
    "sm=scatter_matrix(Global, alpha=0.2, figsize=(10, 10), diagonal='kde')"
   ]
  },
  {
   "cell_type": "code",
   "execution_count": null,
   "metadata": {},
   "outputs": [],
   "source": [
    "#just for test\n",
    "\n",
    "plt.figure(figsize=(5,5))\n",
    "cm = plt.cm.get_cmap('RdYlBu')\n",
    "#xy = range(100)\n",
    "sc = plt.scatter(Global['InternetUsr'],Global['MortaInfant'], c=Global['Happiness Score'], vmin=0, vmax=7, s=35, cmap=cm)\n",
    "plt.colorbar(sc)\n",
    "plt.scatter(Global['InternetUsr'],Global['WomenWBelieve'],c ='green',s=55)\n",
    "plt.show()"
   ]
  },
  {
   "cell_type": "code",
   "execution_count": null,
   "metadata": {},
   "outputs": [],
   "source": [
    "plt.figure(figsize=(5,5))\n",
    "cm = plt.cm.get_cmap('RdYlBu')\n",
    "#xy = range(100)\n",
    "\n",
    "sc=plt.scatter(Global['PISA_average_country'],Global['Delta_Male-Female'], s=Global['Happiness Score']*10, vmin=0, vmax=7, c=Global['Happiness Score'], cmap=cm)\n",
    "plt.scatter(Global['PISA_average_country'],Global['WomenWBelieve'],c ='green',s=55)\n",
    "\n",
    "plt.colorbar(sc)\n",
    "plt.show()\n"
   ]
  },
  {
   "cell_type": "code",
   "execution_count": null,
   "metadata": {
    "collapsed": true
   },
   "outputs": [],
   "source": [
    "\n",
    "#['CountryName', 'InternetUsr', 'GDPPerCapita', \n",
    "#          'AdultLit', 'WomenWBelieve', 'MortaInfant', 'AdulDelta',\n",
    "#        'PISA_average_country', 'Delta_Male-Female', \n",
    "#       'Happiness Score']\n",
    "Global['WomenWBelieve'].fillna(0, inplace=True)"
   ]
  },
  {
   "cell_type": "code",
   "execution_count": null,
   "metadata": {
    "scrolled": true
   },
   "outputs": [],
   "source": [
    "# Define regression parameter\n",
    "GlobalB=Global.dropna()\n",
    "a, b,c = np.polyfit(np.array(GlobalB['InternetUsr']),np.array(GlobalB['MortaInfant']) , deg=2)\n",
    "#a,b  = np.polyfit(x, y, 1)\n",
    "\n",
    "#a, b = np.polyfit(np.array(PISA['PISA_average_country']),np.array(PISA['Delta_Male-Female']), deg=1)\n",
    "\n",
    "f = lambda x: a * x*x + b*x+c\n",
    "\n",
    "cm = plt.cm.get_cmap('seismic')\n",
    "\n",
    "fig, (ax1,ax2) = plt.subplots(1, 2,figsize=(10,9), sharex=False, sharey=False)\n",
    "ax1.scatter(Global['MortaInfant'],Global['InternetUsr'], c=Global['Happiness Score'],s=35, vmin=0, vmax=8,  cmap=cm)\n",
    "ax1.set_xlabel('Mortal Infants')\n",
    "\n",
    "ax1.set_ylabel('% Internet Users')\n",
    "ax1.set_title('Internet User vs Mortal Infants and Happiness Index')\n",
    "\n",
    "\n",
    "x = np.array([0,100])\n",
    "ax1.plot(x,f(x),lw=2, c=\"blue\",label=\"Regression line\")\n",
    "\n",
    "ax2.scatter(Global['PISA_average_country'],Global['Delta_Male-Female'], c=Global['Happiness Score'], vmin=0, vmax=8, s=35, cmap=cm)\n",
    "ax2.set_xlabel('PISA average Per Country')\n",
    "ax2.set_ylabel('Difference between Male vs Female')\n",
    "ax2.set_title('PISA and Happiness Index')\n",
    "\n",
    "a, b = np.polyfit(np.array(PISA['PISA_average_country']),np.array(PISA['Delta_Male-Female']), deg=1)\n",
    "f = lambda x: a * x + b\n",
    "\n",
    "x = np.array([min(PISA['PISA_average_country']),max(PISA['PISA_average_country'])])\n",
    "ax2.plot(x,f(x),lw=2, c=\"blue\",label=\"Regression line\")\n",
    "\n",
    "fig.colorbar(sc)\n",
    "\n"
   ]
  },
  {
   "cell_type": "code",
   "execution_count": null,
   "metadata": {
    "collapsed": true
   },
   "outputs": [],
   "source": []
  }
 ],
 "metadata": {
  "kernelspec": {
   "display_name": "Python 3",
   "language": "python",
   "name": "python3"
  },
  "language_info": {
   "codemirror_mode": {
    "name": "ipython",
    "version": 3
   },
   "file_extension": ".py",
   "mimetype": "text/x-python",
   "name": "python",
   "nbconvert_exporter": "python",
   "pygments_lexer": "ipython3",
   "version": "3.6.1"
  }
 },
 "nbformat": 4,
 "nbformat_minor": 1
}
